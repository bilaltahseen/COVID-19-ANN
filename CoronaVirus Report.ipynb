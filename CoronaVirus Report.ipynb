{
 "cells": [
  {
   "cell_type": "markdown",
   "metadata": {},
   "source": [
    "# Coronavirus DataSet of patients"
   ]
  },
  {
   "cell_type": "markdown",
   "metadata": {},
   "source": [
    "## Predection of COVID-19 with the help of provided dataset"
   ]
  },
  {
   "cell_type": "code",
   "execution_count": 71,
   "metadata": {},
   "outputs": [],
   "source": [
    "import pandas as pd\n",
    "import numpy as np\n",
    "import matplotlib.pyplot as plt\n",
    "from sklearn.model_selection import train_test_split\n",
    "from sklearn.preprocessing import LabelEncoder\n",
    "import tensorflow as tf\n",
    "from sklearn.metrics import confusion_matrix\n",
    "from sklearn.metrics import plot_confusion_matrix\n",
    "import seaborn as sns"
   ]
  },
  {
   "cell_type": "code",
   "execution_count": 72,
   "metadata": {},
   "outputs": [],
   "source": [
    "dataFrame = pd.read_csv('patient.csv')"
   ]
  },
  {
   "cell_type": "code",
   "execution_count": 73,
   "metadata": {},
   "outputs": [
    {
     "data": {
      "text/html": [
       "<div>\n",
       "<style scoped>\n",
       "    .dataframe tbody tr th:only-of-type {\n",
       "        vertical-align: middle;\n",
       "    }\n",
       "\n",
       "    .dataframe tbody tr th {\n",
       "        vertical-align: top;\n",
       "    }\n",
       "\n",
       "    .dataframe thead th {\n",
       "        text-align: right;\n",
       "    }\n",
       "</style>\n",
       "<table border=\"1\" class=\"dataframe\">\n",
       "  <thead>\n",
       "    <tr style=\"text-align: right;\">\n",
       "      <th></th>\n",
       "      <th>id</th>\n",
       "      <th>birth_year</th>\n",
       "      <th>infection_order</th>\n",
       "      <th>infected_by</th>\n",
       "      <th>contact_number</th>\n",
       "    </tr>\n",
       "  </thead>\n",
       "  <tbody>\n",
       "    <tr>\n",
       "      <th>count</th>\n",
       "      <td>4812.000000</td>\n",
       "      <td>299.000000</td>\n",
       "      <td>35.000000</td>\n",
       "      <td>62.000000</td>\n",
       "      <td>32.000000</td>\n",
       "    </tr>\n",
       "    <tr>\n",
       "      <th>mean</th>\n",
       "      <td>2406.500000</td>\n",
       "      <td>1972.712375</td>\n",
       "      <td>2.257143</td>\n",
       "      <td>330.741935</td>\n",
       "      <td>96.843750</td>\n",
       "    </tr>\n",
       "    <tr>\n",
       "      <th>std</th>\n",
       "      <td>1389.249078</td>\n",
       "      <td>17.589967</td>\n",
       "      <td>1.357828</td>\n",
       "      <td>458.786744</td>\n",
       "      <td>224.669522</td>\n",
       "    </tr>\n",
       "    <tr>\n",
       "      <th>min</th>\n",
       "      <td>1.000000</td>\n",
       "      <td>1934.000000</td>\n",
       "      <td>1.000000</td>\n",
       "      <td>3.000000</td>\n",
       "      <td>0.000000</td>\n",
       "    </tr>\n",
       "    <tr>\n",
       "      <th>25%</th>\n",
       "      <td>1203.750000</td>\n",
       "      <td>1959.000000</td>\n",
       "      <td>1.000000</td>\n",
       "      <td>29.250000</td>\n",
       "      <td>2.750000</td>\n",
       "    </tr>\n",
       "    <tr>\n",
       "      <th>50%</th>\n",
       "      <td>2406.500000</td>\n",
       "      <td>1971.000000</td>\n",
       "      <td>2.000000</td>\n",
       "      <td>126.000000</td>\n",
       "      <td>16.500000</td>\n",
       "    </tr>\n",
       "    <tr>\n",
       "      <th>75%</th>\n",
       "      <td>3609.250000</td>\n",
       "      <td>1987.000000</td>\n",
       "      <td>3.000000</td>\n",
       "      <td>372.000000</td>\n",
       "      <td>69.750000</td>\n",
       "    </tr>\n",
       "    <tr>\n",
       "      <th>max</th>\n",
       "      <td>4812.000000</td>\n",
       "      <td>2018.000000</td>\n",
       "      <td>6.000000</td>\n",
       "      <td>1768.000000</td>\n",
       "      <td>1160.000000</td>\n",
       "    </tr>\n",
       "  </tbody>\n",
       "</table>\n",
       "</div>"
      ],
      "text/plain": [
       "                id   birth_year  infection_order  infected_by  contact_number\n",
       "count  4812.000000   299.000000        35.000000    62.000000       32.000000\n",
       "mean   2406.500000  1972.712375         2.257143   330.741935       96.843750\n",
       "std    1389.249078    17.589967         1.357828   458.786744      224.669522\n",
       "min       1.000000  1934.000000         1.000000     3.000000        0.000000\n",
       "25%    1203.750000  1959.000000         1.000000    29.250000        2.750000\n",
       "50%    2406.500000  1971.000000         2.000000   126.000000       16.500000\n",
       "75%    3609.250000  1987.000000         3.000000   372.000000       69.750000\n",
       "max    4812.000000  2018.000000         6.000000  1768.000000     1160.000000"
      ]
     },
     "execution_count": 73,
     "metadata": {},
     "output_type": "execute_result"
    }
   ],
   "source": [
    "dataFrame.describe()"
   ]
  },
  {
   "cell_type": "code",
   "execution_count": 74,
   "metadata": {},
   "outputs": [
    {
     "data": {
      "text/html": [
       "<div>\n",
       "<style scoped>\n",
       "    .dataframe tbody tr th:only-of-type {\n",
       "        vertical-align: middle;\n",
       "    }\n",
       "\n",
       "    .dataframe tbody tr th {\n",
       "        vertical-align: top;\n",
       "    }\n",
       "\n",
       "    .dataframe thead th {\n",
       "        text-align: right;\n",
       "    }\n",
       "</style>\n",
       "<table border=\"1\" class=\"dataframe\">\n",
       "  <thead>\n",
       "    <tr style=\"text-align: right;\">\n",
       "      <th></th>\n",
       "      <th>id</th>\n",
       "      <th>sex</th>\n",
       "      <th>birth_year</th>\n",
       "      <th>country</th>\n",
       "      <th>region</th>\n",
       "      <th>group</th>\n",
       "      <th>infection_reason</th>\n",
       "      <th>infection_order</th>\n",
       "      <th>infected_by</th>\n",
       "      <th>contact_number</th>\n",
       "      <th>confirmed_date</th>\n",
       "      <th>released_date</th>\n",
       "      <th>deceased_date</th>\n",
       "      <th>state</th>\n",
       "    </tr>\n",
       "  </thead>\n",
       "  <tbody>\n",
       "    <tr>\n",
       "      <th>0</th>\n",
       "      <td>1</td>\n",
       "      <td>female</td>\n",
       "      <td>1984.0</td>\n",
       "      <td>China</td>\n",
       "      <td>filtered at airport</td>\n",
       "      <td>NaN</td>\n",
       "      <td>visit to Wuhan</td>\n",
       "      <td>1.0</td>\n",
       "      <td>NaN</td>\n",
       "      <td>45.0</td>\n",
       "      <td>2020-01-20</td>\n",
       "      <td>2020-02-06</td>\n",
       "      <td>NaN</td>\n",
       "      <td>released</td>\n",
       "    </tr>\n",
       "    <tr>\n",
       "      <th>1</th>\n",
       "      <td>2</td>\n",
       "      <td>male</td>\n",
       "      <td>1964.0</td>\n",
       "      <td>Korea</td>\n",
       "      <td>filtered at airport</td>\n",
       "      <td>NaN</td>\n",
       "      <td>visit to Wuhan</td>\n",
       "      <td>1.0</td>\n",
       "      <td>NaN</td>\n",
       "      <td>75.0</td>\n",
       "      <td>2020-01-24</td>\n",
       "      <td>2020-02-05</td>\n",
       "      <td>NaN</td>\n",
       "      <td>released</td>\n",
       "    </tr>\n",
       "    <tr>\n",
       "      <th>2</th>\n",
       "      <td>3</td>\n",
       "      <td>male</td>\n",
       "      <td>1966.0</td>\n",
       "      <td>Korea</td>\n",
       "      <td>capital area</td>\n",
       "      <td>NaN</td>\n",
       "      <td>visit to Wuhan</td>\n",
       "      <td>1.0</td>\n",
       "      <td>NaN</td>\n",
       "      <td>16.0</td>\n",
       "      <td>2020-01-26</td>\n",
       "      <td>2020-02-12</td>\n",
       "      <td>NaN</td>\n",
       "      <td>released</td>\n",
       "    </tr>\n",
       "    <tr>\n",
       "      <th>3</th>\n",
       "      <td>4</td>\n",
       "      <td>male</td>\n",
       "      <td>1964.0</td>\n",
       "      <td>Korea</td>\n",
       "      <td>capital area</td>\n",
       "      <td>NaN</td>\n",
       "      <td>visit to Wuhan</td>\n",
       "      <td>1.0</td>\n",
       "      <td>NaN</td>\n",
       "      <td>95.0</td>\n",
       "      <td>2020-01-27</td>\n",
       "      <td>2020-02-09</td>\n",
       "      <td>NaN</td>\n",
       "      <td>released</td>\n",
       "    </tr>\n",
       "    <tr>\n",
       "      <th>4</th>\n",
       "      <td>5</td>\n",
       "      <td>male</td>\n",
       "      <td>1987.0</td>\n",
       "      <td>Korea</td>\n",
       "      <td>capital area</td>\n",
       "      <td>NaN</td>\n",
       "      <td>visit to Wuhan</td>\n",
       "      <td>1.0</td>\n",
       "      <td>NaN</td>\n",
       "      <td>31.0</td>\n",
       "      <td>2020-01-30</td>\n",
       "      <td>NaN</td>\n",
       "      <td>NaN</td>\n",
       "      <td>isolated</td>\n",
       "    </tr>\n",
       "    <tr>\n",
       "      <th>...</th>\n",
       "      <td>...</td>\n",
       "      <td>...</td>\n",
       "      <td>...</td>\n",
       "      <td>...</td>\n",
       "      <td>...</td>\n",
       "      <td>...</td>\n",
       "      <td>...</td>\n",
       "      <td>...</td>\n",
       "      <td>...</td>\n",
       "      <td>...</td>\n",
       "      <td>...</td>\n",
       "      <td>...</td>\n",
       "      <td>...</td>\n",
       "      <td>...</td>\n",
       "    </tr>\n",
       "    <tr>\n",
       "      <th>4807</th>\n",
       "      <td>4808</td>\n",
       "      <td>NaN</td>\n",
       "      <td>NaN</td>\n",
       "      <td>Korea</td>\n",
       "      <td>NaN</td>\n",
       "      <td>NaN</td>\n",
       "      <td>NaN</td>\n",
       "      <td>NaN</td>\n",
       "      <td>NaN</td>\n",
       "      <td>NaN</td>\n",
       "      <td>2020-03-02</td>\n",
       "      <td>NaN</td>\n",
       "      <td>NaN</td>\n",
       "      <td>isolated</td>\n",
       "    </tr>\n",
       "    <tr>\n",
       "      <th>4808</th>\n",
       "      <td>4809</td>\n",
       "      <td>NaN</td>\n",
       "      <td>NaN</td>\n",
       "      <td>Korea</td>\n",
       "      <td>NaN</td>\n",
       "      <td>NaN</td>\n",
       "      <td>NaN</td>\n",
       "      <td>NaN</td>\n",
       "      <td>NaN</td>\n",
       "      <td>NaN</td>\n",
       "      <td>2020-03-02</td>\n",
       "      <td>NaN</td>\n",
       "      <td>NaN</td>\n",
       "      <td>isolated</td>\n",
       "    </tr>\n",
       "    <tr>\n",
       "      <th>4809</th>\n",
       "      <td>4810</td>\n",
       "      <td>NaN</td>\n",
       "      <td>NaN</td>\n",
       "      <td>Korea</td>\n",
       "      <td>NaN</td>\n",
       "      <td>NaN</td>\n",
       "      <td>NaN</td>\n",
       "      <td>NaN</td>\n",
       "      <td>NaN</td>\n",
       "      <td>NaN</td>\n",
       "      <td>2020-03-02</td>\n",
       "      <td>NaN</td>\n",
       "      <td>NaN</td>\n",
       "      <td>isolated</td>\n",
       "    </tr>\n",
       "    <tr>\n",
       "      <th>4810</th>\n",
       "      <td>4811</td>\n",
       "      <td>NaN</td>\n",
       "      <td>NaN</td>\n",
       "      <td>Korea</td>\n",
       "      <td>NaN</td>\n",
       "      <td>NaN</td>\n",
       "      <td>NaN</td>\n",
       "      <td>NaN</td>\n",
       "      <td>NaN</td>\n",
       "      <td>NaN</td>\n",
       "      <td>2020-03-02</td>\n",
       "      <td>NaN</td>\n",
       "      <td>NaN</td>\n",
       "      <td>isolated</td>\n",
       "    </tr>\n",
       "    <tr>\n",
       "      <th>4811</th>\n",
       "      <td>4812</td>\n",
       "      <td>NaN</td>\n",
       "      <td>NaN</td>\n",
       "      <td>Korea</td>\n",
       "      <td>NaN</td>\n",
       "      <td>NaN</td>\n",
       "      <td>NaN</td>\n",
       "      <td>NaN</td>\n",
       "      <td>NaN</td>\n",
       "      <td>NaN</td>\n",
       "      <td>2020-03-02</td>\n",
       "      <td>NaN</td>\n",
       "      <td>NaN</td>\n",
       "      <td>isolated</td>\n",
       "    </tr>\n",
       "  </tbody>\n",
       "</table>\n",
       "<p>4812 rows × 14 columns</p>\n",
       "</div>"
      ],
      "text/plain": [
       "        id     sex  birth_year country               region group  \\\n",
       "0        1  female      1984.0   China  filtered at airport   NaN   \n",
       "1        2    male      1964.0   Korea  filtered at airport   NaN   \n",
       "2        3    male      1966.0   Korea         capital area   NaN   \n",
       "3        4    male      1964.0   Korea         capital area   NaN   \n",
       "4        5    male      1987.0   Korea         capital area   NaN   \n",
       "...    ...     ...         ...     ...                  ...   ...   \n",
       "4807  4808     NaN         NaN   Korea                  NaN   NaN   \n",
       "4808  4809     NaN         NaN   Korea                  NaN   NaN   \n",
       "4809  4810     NaN         NaN   Korea                  NaN   NaN   \n",
       "4810  4811     NaN         NaN   Korea                  NaN   NaN   \n",
       "4811  4812     NaN         NaN   Korea                  NaN   NaN   \n",
       "\n",
       "     infection_reason  infection_order  infected_by  contact_number  \\\n",
       "0      visit to Wuhan              1.0          NaN            45.0   \n",
       "1      visit to Wuhan              1.0          NaN            75.0   \n",
       "2      visit to Wuhan              1.0          NaN            16.0   \n",
       "3      visit to Wuhan              1.0          NaN            95.0   \n",
       "4      visit to Wuhan              1.0          NaN            31.0   \n",
       "...               ...              ...          ...             ...   \n",
       "4807              NaN              NaN          NaN             NaN   \n",
       "4808              NaN              NaN          NaN             NaN   \n",
       "4809              NaN              NaN          NaN             NaN   \n",
       "4810              NaN              NaN          NaN             NaN   \n",
       "4811              NaN              NaN          NaN             NaN   \n",
       "\n",
       "     confirmed_date released_date deceased_date     state  \n",
       "0        2020-01-20    2020-02-06           NaN  released  \n",
       "1        2020-01-24    2020-02-05           NaN  released  \n",
       "2        2020-01-26    2020-02-12           NaN  released  \n",
       "3        2020-01-27    2020-02-09           NaN  released  \n",
       "4        2020-01-30           NaN           NaN  isolated  \n",
       "...             ...           ...           ...       ...  \n",
       "4807     2020-03-02           NaN           NaN  isolated  \n",
       "4808     2020-03-02           NaN           NaN  isolated  \n",
       "4809     2020-03-02           NaN           NaN  isolated  \n",
       "4810     2020-03-02           NaN           NaN  isolated  \n",
       "4811     2020-03-02           NaN           NaN  isolated  \n",
       "\n",
       "[4812 rows x 14 columns]"
      ]
     },
     "execution_count": 74,
     "metadata": {},
     "output_type": "execute_result"
    }
   ],
   "source": [
    "dataFrame"
   ]
  },
  {
   "cell_type": "code",
   "execution_count": 5,
   "metadata": {},
   "outputs": [],
   "source": [
    "# Mean birth_year = 1972 age = 48 Years Old\n",
    "# 75% = 1987 = 33 Years Old"
   ]
  },
  {
   "cell_type": "code",
   "execution_count": 7,
   "metadata": {},
   "outputs": [
    {
     "name": "stdout",
     "output_type": "stream",
     "text": [
      "contact with patient                 66\n",
      "visit to Daegu                       40\n",
      "visit to Wuhan                        8\n",
      "pilgrimage to Israel                  6\n",
      "residence in Wuhan                    2\n",
      "contact with patient in Singapore     2\n",
      "visit to Thailand                     2\n",
      "contact with patient in Japan         1\n",
      "visit to Cheongdo Daenam Hospital     1\n",
      "visit to Vietnam                      1\n",
      "visit to China                        1\n",
      "Name: infection_reason, dtype: int64\n",
      "-------------------\n",
      "count    11.000000\n",
      "mean     11.818182\n",
      "std      21.297034\n",
      "min       1.000000\n",
      "25%       1.000000\n",
      "50%       2.000000\n",
      "75%       7.000000\n",
      "max      66.000000\n",
      "Name: infection_reason, dtype: float64\n"
     ]
    },
    {
     "data": {
      "image/png": "[encoded data removed]",
      "text/plain": [
       "<Figure size 1250x500 with 1 Axes>"
      ]
     },
     "metadata": {
      "needs_background": "light"
     },
     "output_type": "display_data"
    }
   ],
   "source": [
    "infection_reason=dataFrame['infection_reason'].value_counts()\n",
    "print(infection_reason)\n",
    "print('-------------------')\n",
    "print(infection_reason.describe())\n",
    "fig = plt.figure(figsize=(25, 10),dpi=50)\n",
    "ax = fig.add_axes([0,0,1,1])\n",
    "ax.bar(infection_reason.keys().to_list(),infection_reason.to_list())\n",
    "plt.show()"
   ]
  },
  {
   "cell_type": "code",
   "execution_count": 8,
   "metadata": {},
   "outputs": [
    {
     "name": "stdout",
     "output_type": "stream",
     "text": [
      "Gyeongsangbuk-do       120\n",
      "capital area           110\n",
      "Daegu                   39\n",
      "Gwangju                 10\n",
      "Daejeon                 10\n",
      "Gangwon-do               5\n",
      "filtered at airport      4\n",
      "Jeollabuk-do             4\n",
      "Chungcheongbuk-do        2\n",
      "Chungcheongnam-do        2\n",
      "Jeju-do                  2\n",
      "Ulsan                    2\n",
      "Busan                    2\n",
      "Dague                    1\n",
      "Name: region, dtype: int64\n",
      "-------------------\n",
      "count     14.000000\n",
      "mean      22.357143\n",
      "std       40.479068\n",
      "min        1.000000\n",
      "25%        2.000000\n",
      "50%        4.000000\n",
      "75%       10.000000\n",
      "max      120.000000\n",
      "Name: region, dtype: float64\n"
     ]
    },
    {
     "data": {
      "image/png": "[encoded data removed]",
      "text/plain": [
       "<Figure size 1800x720 with 1 Axes>"
      ]
     },
     "metadata": {
      "needs_background": "light"
     },
     "output_type": "display_data"
    }
   ],
   "source": [
    "infection_reason=dataFrame['region'].value_counts()\n",
    "print(infection_reason)\n",
    "print('-------------------')\n",
    "print(infection_reason.describe())\n",
    "fig = plt.figure(figsize=(25, 10))\n",
    "ax = fig.add_axes([0,0,1,1])\n",
    "ax.bar(infection_reason.keys().to_list(),infection_reason.to_list())\n",
    "plt.show()"
   ]
  },
  {
   "cell_type": "code",
   "execution_count": 9,
   "metadata": {},
   "outputs": [
    {
     "name": "stdout",
     "output_type": "stream",
     "text": [
      "2020-03-01    1062\n",
      "2020-02-29     813\n",
      "2020-03-02     600\n",
      "2020-02-28     571\n",
      "2020-02-27     505\n",
      "2020-02-26     285\n",
      "2020-02-24     231\n",
      "2020-02-22     229\n",
      "2020-02-23     169\n",
      "2020-02-25     143\n",
      "2020-02-21     100\n",
      "2020-02-20      39\n",
      "2020-02-19      26\n",
      "2020-02-18       9\n",
      "2020-02-05       5\n",
      "2020-01-31       4\n",
      "2020-02-02       3\n",
      "2020-02-06       3\n",
      "2020-02-09       3\n",
      "2020-01-30       3\n",
      "2020-02-16       2\n",
      "2020-01-24       1\n",
      "2020-02-04       1\n",
      "2020-01-26       1\n",
      "2020-01-27       1\n",
      "2020-01-20       1\n",
      "2020-02-01       1\n",
      "2020-02-10       1\n",
      "Name: confirmed_date, dtype: int64\n",
      "-------------------\n",
      "count      28.000000\n",
      "mean      171.857143\n",
      "std       282.272880\n",
      "min         1.000000\n",
      "25%         1.750000\n",
      "50%         7.000000\n",
      "75%       229.500000\n",
      "max      1062.000000\n",
      "Name: confirmed_date, dtype: float64\n"
     ]
    },
    {
     "data": {
      "image/png": "[encoded data removed]",
      "text/plain": [
       "<Figure size 1800x720 with 1 Axes>"
      ]
     },
     "metadata": {
      "needs_background": "light"
     },
     "output_type": "display_data"
    }
   ],
   "source": [
    "infection_reason=dataFrame['confirmed_date'].value_counts()\n",
    "print(infection_reason)\n",
    "print('-------------------')\n",
    "print(infection_reason.describe())\n",
    "fig = plt.figure(figsize=(25, 10))\n",
    "ax = fig.add_axes([0,0,1,1])\n",
    "ax.bar(infection_reason.keys().to_list(),infection_reason.to_list())\n",
    "plt.show()"
   ]
  },
  {
   "cell_type": "code",
   "execution_count": 10,
   "metadata": {},
   "outputs": [
    {
     "name": "stdout",
     "output_type": "stream",
     "text": [
      "isolated    4764\n",
      "released      28\n",
      "deceased      20\n",
      "Name: state, dtype: int64\n",
      "-------------------\n",
      "count       3.000000\n",
      "mean     1604.000000\n",
      "std      2736.643199\n",
      "min        20.000000\n",
      "25%        24.000000\n",
      "50%        28.000000\n",
      "75%      2396.000000\n",
      "max      4764.000000\n",
      "Name: state, dtype: float64\n"
     ]
    },
    {
     "data": {
      "image/png": "[encoded data removed]",
      "text/plain": [
       "<Figure size 720x720 with 1 Axes>"
      ]
     },
     "metadata": {
      "needs_background": "light"
     },
     "output_type": "display_data"
    },
    {
     "name": "stdout",
     "output_type": "stream",
     "text": [
      "Deceased % : 0.41562759767248547\n"
     ]
    }
   ],
   "source": [
    "infection_reason=dataFrame['state'].value_counts()\n",
    "print(infection_reason)\n",
    "print('-------------------')\n",
    "print(infection_reason.describe())\n",
    "fig = plt.figure(figsize=(10, 10))\n",
    "ax = fig.add_axes([0,0,1,1])\n",
    "ax.bar(infection_reason.keys().to_list(),infection_reason.to_list())\n",
    "plt.show()\n",
    "print('Deceased % : '+ str(infection_reason['deceased']/len(dataFrame['state'])*100))"
   ]
  },
  {
   "cell_type": "code",
   "execution_count": 11,
   "metadata": {},
   "outputs": [],
   "source": [
    "columns=dataFrame['infection_reason'].keys().to_list()\n",
    "encode_infection_reason=pd.get_dummies(dataFrame['infection_reason'],columns=columns)"
   ]
  },
  {
   "cell_type": "code",
   "execution_count": 12,
   "metadata": {},
   "outputs": [],
   "source": [
    "le = LabelEncoder()"
   ]
  },
  {
   "cell_type": "code",
   "execution_count": 13,
   "metadata": {},
   "outputs": [
    {
     "data": {
      "text/plain": [
       "array([2, 2, 2, ..., 1, 1, 1])"
      ]
     },
     "execution_count": 13,
     "metadata": {},
     "output_type": "execute_result"
    }
   ],
   "source": [
    "encode_state=le.fit_transform(dataFrame['state'].values)\n",
    "encode_state"
   ]
  },
  {
   "cell_type": "code",
   "execution_count": 14,
   "metadata": {},
   "outputs": [],
   "source": [
    "columns=dataFrame['sex'].keys().to_list()\n",
    "encode_sex=pd.get_dummies(dataFrame['sex'],columns=columns)"
   ]
  },
  {
   "cell_type": "code",
   "execution_count": 15,
   "metadata": {},
   "outputs": [],
   "source": [
    "columns=dataFrame['confirmed_date'].keys().to_list()\n",
    "encode_confirmed_date=pd.get_dummies(dataFrame['confirmed_date'],columns=columns)"
   ]
  },
  {
   "cell_type": "code",
   "execution_count": 16,
   "metadata": {},
   "outputs": [],
   "source": [
    "columns=dataFrame['released_date'].keys().to_list()\n",
    "encode_released_date=pd.get_dummies(dataFrame['released_date'],columns=columns)"
   ]
  },
  {
   "cell_type": "code",
   "execution_count": 17,
   "metadata": {},
   "outputs": [],
   "source": [
    "columns=dataFrame['deceased_date'].keys().to_list()\n",
    "encode_deceased_date=pd.get_dummies(dataFrame['deceased_date'],columns=columns)"
   ]
  },
  {
   "cell_type": "code",
   "execution_count": 18,
   "metadata": {},
   "outputs": [],
   "source": [
    "columns=dataFrame['region'].keys().to_list()\n",
    "encode_region=pd.get_dummies(dataFrame['region'],columns=columns)"
   ]
  },
  {
   "cell_type": "code",
   "execution_count": 19,
   "metadata": {},
   "outputs": [],
   "source": [
    "columns=dataFrame['group'].keys().to_list()\n",
    "encode_group=pd.get_dummies(dataFrame['group'],columns=columns)"
   ]
  },
  {
   "cell_type": "code",
   "execution_count": 20,
   "metadata": {},
   "outputs": [],
   "source": [
    "columns=dataFrame['country'].keys().to_list()\n",
    "encode_country=pd.get_dummies(dataFrame['country'],columns=columns)"
   ]
  },
  {
   "cell_type": "code",
   "execution_count": 21,
   "metadata": {},
   "outputs": [],
   "source": [
    "frames=[encode_country,encode_sex,encode_group,encode_region,encode_confirmed_date,encode_released_date,encode_deceased_date,encode_infection_reason]"
   ]
  },
  {
   "cell_type": "code",
   "execution_count": 22,
   "metadata": {},
   "outputs": [],
   "source": [
    "keys=[]\n",
    "for i in frames:\n",
    "    keys+=i.keys().to_list()"
   ]
  },
  {
   "cell_type": "code",
   "execution_count": 24,
   "metadata": {},
   "outputs": [],
   "source": [
    "finalDataFrame = pd.concat(frames,sort=False,ignore_index=False,axis=1)"
   ]
  },
  {
   "cell_type": "code",
   "execution_count": 25,
   "metadata": {},
   "outputs": [],
   "source": [
    "X_train, X_test, y_train, y_test = train_test_split(finalDataFrame.values, encode_state, test_size=0.33, random_state=1)"
   ]
  },
  {
   "cell_type": "code",
   "execution_count": 26,
   "metadata": {},
   "outputs": [],
   "source": [
    "model = tf.keras.Sequential()\n",
    "model.add(tf.keras.layers.Dense(512,activation='relu',input_shape=(90,)))\n",
    "model.add(tf.keras.layers.Dense(256,activation='relu'))\n",
    "model.add(tf.keras.layers.Dense(128,activation='relu'))\n",
    "model.add(tf.keras.layers.Dense(64,activation='relu'))\n",
    "model.add(tf.keras.layers.Dense(1,activation='sigmoid'))\n",
    "model.compile(loss='binary_crossentropy',optimizer='adam', metrics=['accuracy'])"
   ]
  },
  {
   "cell_type": "code",
   "execution_count": 27,
   "metadata": {},
   "outputs": [
    {
     "name": "stdout",
     "output_type": "stream",
     "text": [
      "Train on 2256 samples, validate on 968 samples\n",
      "Epoch 1/20\n",
      "2256/2256 [==============================] - 1s 635us/sample - loss: 0.0213 - accuracy: 0.9805 - val_loss: -0.1076 - val_accuracy: 0.9938\n",
      "Epoch 2/20\n",
      "2256/2256 [==============================] - 1s 233us/sample - loss: -1.4962 - accuracy: 0.9894 - val_loss: -3.6224 - val_accuracy: 0.9938\n",
      "Epoch 3/20\n",
      "2256/2256 [==============================] - 1s 229us/sample - loss: -43.0071 - accuracy: 0.9894 - val_loss: -110.5088 - val_accuracy: 0.9938\n",
      "Epoch 4/20\n",
      "2256/2256 [==============================] - 1s 229us/sample - loss: -495.6495 - accuracy: 0.9911 - val_loss: -878.6608 - val_accuracy: 0.9938\n",
      "Epoch 5/20\n",
      "2256/2256 [==============================] - 1s 228us/sample - loss: -2677.3642 - accuracy: 0.9902 - val_loss: -3563.7168 - val_accuracy: 0.9948\n",
      "Epoch 6/20\n",
      "2256/2256 [==============================] - 1s 229us/sample - loss: -10736.5852 - accuracy: 0.9916 - val_loss: -12058.9801 - val_accuracy: 0.9948\n",
      "Epoch 7/20\n",
      "2256/2256 [==============================] - 1s 232us/sample - loss: -32080.9697 - accuracy: 0.9894 - val_loss: -31079.2594 - val_accuracy: 0.9938\n",
      "Epoch 8/20\n",
      "2256/2256 [==============================] - 1s 229us/sample - loss: -76040.2302 - accuracy: 0.9885 - val_loss: -63370.1348 - val_accuracy: 0.9938\n",
      "Epoch 9/20\n",
      "2256/2256 [==============================] - 1s 229us/sample - loss: -162936.4098 - accuracy: 0.9898 - val_loss: -131369.8480 - val_accuracy: 0.9938\n",
      "Epoch 10/20\n",
      "2256/2256 [==============================] - 1s 229us/sample - loss: -305069.1314 - accuracy: 0.9902 - val_loss: -249147.2887 - val_accuracy: 0.9938\n",
      "Epoch 11/20\n",
      "2256/2256 [==============================] - 1s 229us/sample - loss: -531431.1580 - accuracy: 0.9907 - val_loss: -397137.1331 - val_accuracy: 0.9938\n",
      "Epoch 12/20\n",
      "2256/2256 [==============================] - 1s 229us/sample - loss: -871700.4546 - accuracy: 0.9894 - val_loss: -646521.1501 - val_accuracy: 0.9938\n",
      "Epoch 13/20\n",
      "2256/2256 [==============================] - 1s 232us/sample - loss: -1341085.3724 - accuracy: 0.9889 - val_loss: -993785.4211 - val_accuracy: 0.9938\n",
      "Epoch 14/20\n",
      "2256/2256 [==============================] - 1s 244us/sample - loss: -1992942.9914 - accuracy: 0.9907 - val_loss: -1454620.0373 - val_accuracy: 0.9938\n",
      "Epoch 15/20\n",
      "2256/2256 [==============================] - 1s 235us/sample - loss: -2855173.6831 - accuracy: 0.9902 - val_loss: -2039764.4920 - val_accuracy: 0.9938\n",
      "Epoch 16/20\n",
      "2256/2256 [==============================] - 1s 232us/sample - loss: -3948186.2700 - accuracy: 0.9894 - val_loss: -2777333.5350 - val_accuracy: 0.9938\n",
      "Epoch 17/20\n",
      "2256/2256 [==============================] - 1s 236us/sample - loss: -5378147.4523 - accuracy: 0.9916 - val_loss: -3664050.8189 - val_accuracy: 0.9938\n",
      "Epoch 18/20\n",
      "2256/2256 [==============================] - 1s 242us/sample - loss: -7121937.4067 - accuracy: 0.9902 - val_loss: -4728178.9463 - val_accuracy: 0.9948\n",
      "Epoch 19/20\n",
      "2256/2256 [==============================] - 1s 246us/sample - loss: -9253826.2225 - accuracy: 0.9902 - val_loss: -6325650.4905 - val_accuracy: 0.9938\n",
      "Epoch 20/20\n",
      "2256/2256 [==============================] - 1s 241us/sample - loss: -11829981.7129 - accuracy: 0.9911 - val_loss: -7949190.4959 - val_accuracy: 0.9948\n"
     ]
    },
    {
     "data": {
      "text/plain": [
       "<tensorflow.python.keras.callbacks.History at 0x1b037ae288>"
      ]
     },
     "execution_count": 27,
     "metadata": {},
     "output_type": "execute_result"
    }
   ],
   "source": [
    "model.fit(X_train,y_train,epochs=20,batch_size=20,validation_split=0.3,verbose=1)"
   ]
  },
  {
   "cell_type": "code",
   "execution_count": 28,
   "metadata": {},
   "outputs": [
    {
     "data": {
      "text/plain": [
       "[-10910939.630667506, 0.9892947]"
      ]
     },
     "execution_count": 28,
     "metadata": {},
     "output_type": "execute_result"
    }
   ],
   "source": [
    "model.evaluate(X_test,y_test,verbose=0)"
   ]
  },
  {
   "cell_type": "code",
   "execution_count": 30,
   "metadata": {},
   "outputs": [],
   "source": [
    "y_predicct=model.predict(finalDataFrame.values)"
   ]
  },
  {
   "cell_type": "code",
   "execution_count": 37,
   "metadata": {},
   "outputs": [],
   "source": [
    "c_m=confusion_matrix(encode_state,y_predicct)"
   ]
  },
  {
   "cell_type": "code",
   "execution_count": 39,
   "metadata": {},
   "outputs": [],
   "source": [
    "con_mat = tf.math.confusion_matrix(labels=encode_state, predictions=y_predicct).numpy()"
   ]
  },
  {
   "cell_type": "code",
   "execution_count": 66,
   "metadata": {},
   "outputs": [],
   "source": [
    "classes=list(dataFrame['state'].unique())\n",
    "con_mat_norm = np.around(con_mat.astype('float') / con_mat.sum(axis=1)[:, np.newaxis], decimals=2)\n",
    "con_mat_df = pd.DataFrame(con_mat_norm,\n",
    "                     index = classes, \n",
    "                     columns = classes)"
   ]
  },
  {
   "cell_type": "code",
   "execution_count": 69,
   "metadata": {},
   "outputs": [
    {
     "data": {
      "image/png": "[encoded data removed]",
      "text/plain": [
       "<Figure size 288x288 with 2 Axes>"
      ]
     },
     "metadata": {
      "needs_background": "light"
     },
     "output_type": "display_data"
    }
   ],
   "source": [
    "figure = plt.figure(figsize=(4, 4))\n",
    "sns.heatmap(con_mat_df, annot=True,cmap=plt.cm.Blues)\n",
    "plt.tight_layout()\n",
    "plt.ylabel('True label')\n",
    "plt.xlabel('Predicted label')\n",
    "plt.show()"
   ]
  }
 ],
 "metadata": {
  "kernelspec": {
   "display_name": "Python 3",
   "language": "python",
   "name": "python3"
  },
  "language_info": {
   "codemirror_mode": {
    "name": "ipython",
    "version": 3
   },
   "file_extension": ".py",
   "mimetype": "text/x-python",
   "name": "python",
   "nbconvert_exporter": "python",
   "pygments_lexer": "ipython3",
   "version": "3.7.5"
  }
 },
 "nbformat": 4,
 "nbformat_minor": 2
}
